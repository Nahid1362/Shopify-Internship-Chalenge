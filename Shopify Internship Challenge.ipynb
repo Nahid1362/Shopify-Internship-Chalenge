{
 "cells": [
  {
   "cell_type": "markdown",
   "id": "290738ed",
   "metadata": {},
   "source": [
    "# Question 1\n"
   ]
  },
  {
   "cell_type": "markdown",
   "id": "2535b0fc",
   "metadata": {},
   "source": [
    "### On Shopify, we have exactly 100 sneaker shops, and each of these shops sells only one model of shoe. We want to do some analysis of the average order value (AOV). When we look at orders data over a 30 day window, we naively calculate an AOV of 3145.13. Given that we know these shops are selling sneakers, a relatively affordable item, something seems wrong with our analysis. \n",
    " -\tThink about what could be going wrong with our calculation. Think about a better way to evaluate this data.  "
   ]
  },
  {
   "cell_type": "code",
   "execution_count": 13,
   "id": "c30930b4",
   "metadata": {},
   "outputs": [],
   "source": [
    "import pandas as pd\n",
    "import numpy as np"
   ]
  },
  {
   "cell_type": "code",
   "execution_count": 14,
   "id": "87b74289",
   "metadata": {},
   "outputs": [],
   "source": [
    "# read the file\n",
    "df = pd.read_csv(\"C:/Users/nahid/Downloads/2019 Winter Data Science Intern Challenge Data Set - Sheet1.csv\")"
   ]
  },
  {
   "cell_type": "code",
   "execution_count": 15,
   "id": "36dd7695",
   "metadata": {
    "scrolled": true
   },
   "outputs": [
    {
     "data": {
      "text/html": [
       "<div>\n",
       "<style scoped>\n",
       "    .dataframe tbody tr th:only-of-type {\n",
       "        vertical-align: middle;\n",
       "    }\n",
       "\n",
       "    .dataframe tbody tr th {\n",
       "        vertical-align: top;\n",
       "    }\n",
       "\n",
       "    .dataframe thead th {\n",
       "        text-align: right;\n",
       "    }\n",
       "</style>\n",
       "<table border=\"1\" class=\"dataframe\">\n",
       "  <thead>\n",
       "    <tr style=\"text-align: right;\">\n",
       "      <th></th>\n",
       "      <th>order_id</th>\n",
       "      <th>shop_id</th>\n",
       "      <th>user_id</th>\n",
       "      <th>order_amount</th>\n",
       "      <th>total_items</th>\n",
       "      <th>payment_method</th>\n",
       "      <th>created_at</th>\n",
       "    </tr>\n",
       "  </thead>\n",
       "  <tbody>\n",
       "    <tr>\n",
       "      <th>0</th>\n",
       "      <td>1</td>\n",
       "      <td>53</td>\n",
       "      <td>746</td>\n",
       "      <td>224</td>\n",
       "      <td>2</td>\n",
       "      <td>cash</td>\n",
       "      <td>2017-03-13 12:36:56</td>\n",
       "    </tr>\n",
       "    <tr>\n",
       "      <th>1</th>\n",
       "      <td>2</td>\n",
       "      <td>92</td>\n",
       "      <td>925</td>\n",
       "      <td>90</td>\n",
       "      <td>1</td>\n",
       "      <td>cash</td>\n",
       "      <td>2017-03-03 17:38:52</td>\n",
       "    </tr>\n",
       "    <tr>\n",
       "      <th>2</th>\n",
       "      <td>3</td>\n",
       "      <td>44</td>\n",
       "      <td>861</td>\n",
       "      <td>144</td>\n",
       "      <td>1</td>\n",
       "      <td>cash</td>\n",
       "      <td>2017-03-14 4:23:56</td>\n",
       "    </tr>\n",
       "    <tr>\n",
       "      <th>3</th>\n",
       "      <td>4</td>\n",
       "      <td>18</td>\n",
       "      <td>935</td>\n",
       "      <td>156</td>\n",
       "      <td>1</td>\n",
       "      <td>credit_card</td>\n",
       "      <td>2017-03-26 12:43:37</td>\n",
       "    </tr>\n",
       "    <tr>\n",
       "      <th>4</th>\n",
       "      <td>5</td>\n",
       "      <td>18</td>\n",
       "      <td>883</td>\n",
       "      <td>156</td>\n",
       "      <td>1</td>\n",
       "      <td>credit_card</td>\n",
       "      <td>2017-03-01 4:35:11</td>\n",
       "    </tr>\n",
       "  </tbody>\n",
       "</table>\n",
       "</div>"
      ],
      "text/plain": [
       "   order_id  shop_id  user_id  order_amount  total_items payment_method  \\\n",
       "0         1       53      746           224            2           cash   \n",
       "1         2       92      925            90            1           cash   \n",
       "2         3       44      861           144            1           cash   \n",
       "3         4       18      935           156            1    credit_card   \n",
       "4         5       18      883           156            1    credit_card   \n",
       "\n",
       "            created_at  \n",
       "0  2017-03-13 12:36:56  \n",
       "1  2017-03-03 17:38:52  \n",
       "2   2017-03-14 4:23:56  \n",
       "3  2017-03-26 12:43:37  \n",
       "4   2017-03-01 4:35:11  "
      ]
     },
     "execution_count": 15,
     "metadata": {},
     "output_type": "execute_result"
    }
   ],
   "source": [
    "df.head()"
   ]
  },
  {
   "cell_type": "code",
   "execution_count": 16,
   "id": "4674832e",
   "metadata": {},
   "outputs": [
    {
     "data": {
      "text/plain": [
       "count      5000.000000\n",
       "mean       3145.128000\n",
       "std       41282.539349\n",
       "min          90.000000\n",
       "25%         163.000000\n",
       "50%         284.000000\n",
       "75%         390.000000\n",
       "max      704000.000000\n",
       "Name: order_amount, dtype: float64"
      ]
     },
     "execution_count": 16,
     "metadata": {},
     "output_type": "execute_result"
    }
   ],
   "source": [
    "# to get the calculated method to get the AOV\n",
    "df['order_amount'].describe()"
   ]
  },
  {
   "cell_type": "code",
   "execution_count": 19,
   "id": "0e512378",
   "metadata": {},
   "outputs": [
    {
     "data": {
      "text/plain": [
       "284.0"
      ]
     },
     "execution_count": 19,
     "metadata": {},
     "output_type": "execute_result"
    }
   ],
   "source": [
    "\n",
    "df['order_amount'].median()"
   ]
  },
  {
   "cell_type": "code",
   "execution_count": 20,
   "id": "5a8fd828",
   "metadata": {},
   "outputs": [
    {
     "data": {
      "text/plain": [
       "0    153\n",
       "dtype: int64"
      ]
     },
     "execution_count": 20,
     "metadata": {},
     "output_type": "execute_result"
    }
   ],
   "source": [
    "df['order_amount'].mode()"
   ]
  },
  {
   "cell_type": "markdown",
   "id": "9bfc544c",
   "metadata": {},
   "source": [
    "# It shows that the metric used for AOV was mean."
   ]
  },
  {
   "cell_type": "code",
   "execution_count": 6,
   "id": "d609c9ca",
   "metadata": {},
   "outputs": [
    {
     "data": {
      "text/plain": [
       "100"
      ]
     },
     "execution_count": 6,
     "metadata": {},
     "output_type": "execute_result"
    }
   ],
   "source": [
    "# to confirm the total number of store\n",
    "len(df['shop_id'].unique())\n"
   ]
  },
  {
   "cell_type": "code",
   "execution_count": 8,
   "id": "2ea8d16b",
   "metadata": {},
   "outputs": [
    {
     "data": {
      "text/plain": [
       "array([[<AxesSubplot:title={'center':'order_amount'}>]], dtype=object)"
      ]
     },
     "execution_count": 8,
     "metadata": {},
     "output_type": "execute_result"
    },
    {
     "data": {
      "image/png": "[encoded data removed]",
      "text/plain": [
       "<Figure size 432x288 with 1 Axes>"
      ]
     },
     "metadata": {
      "needs_background": "light"
     },
     "output_type": "display_data"
    },
    {
     "data": {
      "image/png": "[encoded data removed]",
      "text/plain": [
       "<Figure size 432x288 with 1 Axes>"
      ]
     },
     "metadata": {
      "needs_background": "light"
     },
     "output_type": "display_data"
    }
   ],
   "source": [
    "df.boxplot(column='order_amount')\n",
    "df.hist(column = 'order_amount')"
   ]
  },
  {
   "cell_type": "markdown",
   "id": "58acfee4",
   "metadata": {},
   "source": [
    "###  Lets take a look at the max amount in the dataset which is a outlier as it shows in the above histogram. Total_items of each order is not a normal order and it might be ordered by an supplier which increased the value of AOV incredibly."
   ]
  },
  {
   "cell_type": "code",
   "execution_count": 9,
   "id": "68d25826",
   "metadata": {},
   "outputs": [
    {
     "data": {
      "text/html": [
       "<div>\n",
       "<style scoped>\n",
       "    .dataframe tbody tr th:only-of-type {\n",
       "        vertical-align: middle;\n",
       "    }\n",
       "\n",
       "    .dataframe tbody tr th {\n",
       "        vertical-align: top;\n",
       "    }\n",
       "\n",
       "    .dataframe thead th {\n",
       "        text-align: right;\n",
       "    }\n",
       "</style>\n",
       "<table border=\"1\" class=\"dataframe\">\n",
       "  <thead>\n",
       "    <tr style=\"text-align: right;\">\n",
       "      <th></th>\n",
       "      <th>order_id</th>\n",
       "      <th>shop_id</th>\n",
       "      <th>user_id</th>\n",
       "      <th>order_amount</th>\n",
       "      <th>total_items</th>\n",
       "      <th>payment_method</th>\n",
       "      <th>created_at</th>\n",
       "    </tr>\n",
       "  </thead>\n",
       "  <tbody>\n",
       "    <tr>\n",
       "      <th>15</th>\n",
       "      <td>16</td>\n",
       "      <td>42</td>\n",
       "      <td>607</td>\n",
       "      <td>704000</td>\n",
       "      <td>2000</td>\n",
       "      <td>credit_card</td>\n",
       "      <td>2017-03-07 4:00:00</td>\n",
       "    </tr>\n",
       "    <tr>\n",
       "      <th>60</th>\n",
       "      <td>61</td>\n",
       "      <td>42</td>\n",
       "      <td>607</td>\n",
       "      <td>704000</td>\n",
       "      <td>2000</td>\n",
       "      <td>credit_card</td>\n",
       "      <td>2017-03-04 4:00:00</td>\n",
       "    </tr>\n",
       "    <tr>\n",
       "      <th>520</th>\n",
       "      <td>521</td>\n",
       "      <td>42</td>\n",
       "      <td>607</td>\n",
       "      <td>704000</td>\n",
       "      <td>2000</td>\n",
       "      <td>credit_card</td>\n",
       "      <td>2017-03-02 4:00:00</td>\n",
       "    </tr>\n",
       "    <tr>\n",
       "      <th>1104</th>\n",
       "      <td>1105</td>\n",
       "      <td>42</td>\n",
       "      <td>607</td>\n",
       "      <td>704000</td>\n",
       "      <td>2000</td>\n",
       "      <td>credit_card</td>\n",
       "      <td>2017-03-24 4:00:00</td>\n",
       "    </tr>\n",
       "    <tr>\n",
       "      <th>1362</th>\n",
       "      <td>1363</td>\n",
       "      <td>42</td>\n",
       "      <td>607</td>\n",
       "      <td>704000</td>\n",
       "      <td>2000</td>\n",
       "      <td>credit_card</td>\n",
       "      <td>2017-03-15 4:00:00</td>\n",
       "    </tr>\n",
       "    <tr>\n",
       "      <th>1436</th>\n",
       "      <td>1437</td>\n",
       "      <td>42</td>\n",
       "      <td>607</td>\n",
       "      <td>704000</td>\n",
       "      <td>2000</td>\n",
       "      <td>credit_card</td>\n",
       "      <td>2017-03-11 4:00:00</td>\n",
       "    </tr>\n",
       "    <tr>\n",
       "      <th>1562</th>\n",
       "      <td>1563</td>\n",
       "      <td>42</td>\n",
       "      <td>607</td>\n",
       "      <td>704000</td>\n",
       "      <td>2000</td>\n",
       "      <td>credit_card</td>\n",
       "      <td>2017-03-19 4:00:00</td>\n",
       "    </tr>\n",
       "    <tr>\n",
       "      <th>1602</th>\n",
       "      <td>1603</td>\n",
       "      <td>42</td>\n",
       "      <td>607</td>\n",
       "      <td>704000</td>\n",
       "      <td>2000</td>\n",
       "      <td>credit_card</td>\n",
       "      <td>2017-03-17 4:00:00</td>\n",
       "    </tr>\n",
       "    <tr>\n",
       "      <th>2153</th>\n",
       "      <td>2154</td>\n",
       "      <td>42</td>\n",
       "      <td>607</td>\n",
       "      <td>704000</td>\n",
       "      <td>2000</td>\n",
       "      <td>credit_card</td>\n",
       "      <td>2017-03-12 4:00:00</td>\n",
       "    </tr>\n",
       "    <tr>\n",
       "      <th>2297</th>\n",
       "      <td>2298</td>\n",
       "      <td>42</td>\n",
       "      <td>607</td>\n",
       "      <td>704000</td>\n",
       "      <td>2000</td>\n",
       "      <td>credit_card</td>\n",
       "      <td>2017-03-07 4:00:00</td>\n",
       "    </tr>\n",
       "    <tr>\n",
       "      <th>2835</th>\n",
       "      <td>2836</td>\n",
       "      <td>42</td>\n",
       "      <td>607</td>\n",
       "      <td>704000</td>\n",
       "      <td>2000</td>\n",
       "      <td>credit_card</td>\n",
       "      <td>2017-03-28 4:00:00</td>\n",
       "    </tr>\n",
       "    <tr>\n",
       "      <th>2969</th>\n",
       "      <td>2970</td>\n",
       "      <td>42</td>\n",
       "      <td>607</td>\n",
       "      <td>704000</td>\n",
       "      <td>2000</td>\n",
       "      <td>credit_card</td>\n",
       "      <td>2017-03-28 4:00:00</td>\n",
       "    </tr>\n",
       "    <tr>\n",
       "      <th>3332</th>\n",
       "      <td>3333</td>\n",
       "      <td>42</td>\n",
       "      <td>607</td>\n",
       "      <td>704000</td>\n",
       "      <td>2000</td>\n",
       "      <td>credit_card</td>\n",
       "      <td>2017-03-24 4:00:00</td>\n",
       "    </tr>\n",
       "    <tr>\n",
       "      <th>4056</th>\n",
       "      <td>4057</td>\n",
       "      <td>42</td>\n",
       "      <td>607</td>\n",
       "      <td>704000</td>\n",
       "      <td>2000</td>\n",
       "      <td>credit_card</td>\n",
       "      <td>2017-03-28 4:00:00</td>\n",
       "    </tr>\n",
       "    <tr>\n",
       "      <th>4646</th>\n",
       "      <td>4647</td>\n",
       "      <td>42</td>\n",
       "      <td>607</td>\n",
       "      <td>704000</td>\n",
       "      <td>2000</td>\n",
       "      <td>credit_card</td>\n",
       "      <td>2017-03-02 4:00:00</td>\n",
       "    </tr>\n",
       "    <tr>\n",
       "      <th>4868</th>\n",
       "      <td>4869</td>\n",
       "      <td>42</td>\n",
       "      <td>607</td>\n",
       "      <td>704000</td>\n",
       "      <td>2000</td>\n",
       "      <td>credit_card</td>\n",
       "      <td>2017-03-22 4:00:00</td>\n",
       "    </tr>\n",
       "    <tr>\n",
       "      <th>4882</th>\n",
       "      <td>4883</td>\n",
       "      <td>42</td>\n",
       "      <td>607</td>\n",
       "      <td>704000</td>\n",
       "      <td>2000</td>\n",
       "      <td>credit_card</td>\n",
       "      <td>2017-03-25 4:00:00</td>\n",
       "    </tr>\n",
       "  </tbody>\n",
       "</table>\n",
       "</div>"
      ],
      "text/plain": [
       "      order_id  shop_id  user_id  order_amount  total_items payment_method  \\\n",
       "15          16       42      607        704000         2000    credit_card   \n",
       "60          61       42      607        704000         2000    credit_card   \n",
       "520        521       42      607        704000         2000    credit_card   \n",
       "1104      1105       42      607        704000         2000    credit_card   \n",
       "1362      1363       42      607        704000         2000    credit_card   \n",
       "1436      1437       42      607        704000         2000    credit_card   \n",
       "1562      1563       42      607        704000         2000    credit_card   \n",
       "1602      1603       42      607        704000         2000    credit_card   \n",
       "2153      2154       42      607        704000         2000    credit_card   \n",
       "2297      2298       42      607        704000         2000    credit_card   \n",
       "2835      2836       42      607        704000         2000    credit_card   \n",
       "2969      2970       42      607        704000         2000    credit_card   \n",
       "3332      3333       42      607        704000         2000    credit_card   \n",
       "4056      4057       42      607        704000         2000    credit_card   \n",
       "4646      4647       42      607        704000         2000    credit_card   \n",
       "4868      4869       42      607        704000         2000    credit_card   \n",
       "4882      4883       42      607        704000         2000    credit_card   \n",
       "\n",
       "              created_at  \n",
       "15    2017-03-07 4:00:00  \n",
       "60    2017-03-04 4:00:00  \n",
       "520   2017-03-02 4:00:00  \n",
       "1104  2017-03-24 4:00:00  \n",
       "1362  2017-03-15 4:00:00  \n",
       "1436  2017-03-11 4:00:00  \n",
       "1562  2017-03-19 4:00:00  \n",
       "1602  2017-03-17 4:00:00  \n",
       "2153  2017-03-12 4:00:00  \n",
       "2297  2017-03-07 4:00:00  \n",
       "2835  2017-03-28 4:00:00  \n",
       "2969  2017-03-28 4:00:00  \n",
       "3332  2017-03-24 4:00:00  \n",
       "4056  2017-03-28 4:00:00  \n",
       "4646  2017-03-02 4:00:00  \n",
       "4868  2017-03-22 4:00:00  \n",
       "4882  2017-03-25 4:00:00  "
      ]
     },
     "execution_count": 9,
     "metadata": {},
     "output_type": "execute_result"
    }
   ],
   "source": [
    "df[df['order_amount'] == 704000]"
   ]
  },
  {
   "cell_type": "markdown",
   "id": "6f293ad5",
   "metadata": {},
   "source": [
    "### For now I will remove those orders from the dataset to evaluate the meen and midian for the rest of orders."
   ]
  },
  {
   "cell_type": "code",
   "execution_count": 22,
   "id": "2a3c17d6",
   "metadata": {},
   "outputs": [
    {
     "data": {
      "text/plain": [
       "<AxesSubplot:>"
      ]
     },
     "execution_count": 22,
     "metadata": {},
     "output_type": "execute_result"
    },
    {
     "data": {
      "image/png": "[encoded data removed]",
      "text/plain": [
       "<Figure size 432x288 with 1 Axes>"
      ]
     },
     "metadata": {
      "needs_background": "light"
     },
     "output_type": "display_data"
    }
   ],
   "source": [
    "dfWithNoHugeAmount= df[df.order_amount < 704000]\n",
    "dfWithNoHugeAmount.order_amount.describe()\n",
    "dfWithNoHugeAmount.boxplot(column='order_amount')"
   ]
  },
  {
   "cell_type": "code",
   "execution_count": 23,
   "id": "008f9c77",
   "metadata": {},
   "outputs": [
    {
     "data": {
      "text/plain": [
       "0    153\n",
       "dtype: int64"
      ]
     },
     "execution_count": 23,
     "metadata": {},
     "output_type": "execute_result"
    }
   ],
   "source": [
    "dfWithNoHugeAmount['order_amount'].mode()"
   ]
  },
  {
   "cell_type": "code",
   "execution_count": 24,
   "id": "c1f578b1",
   "metadata": {},
   "outputs": [
    {
     "data": {
      "text/plain": [
       "284.0"
      ]
     },
     "execution_count": 24,
     "metadata": {},
     "output_type": "execute_result"
    }
   ],
   "source": [
    "dfWithNoHugeAmount['order_amount'].median()"
   ]
  },
  {
   "cell_type": "markdown",
   "id": "e47355ba",
   "metadata": {},
   "source": [
    "### Although, we have better distribution of order_amount, there are some orders that seems to be outlier too. I am going to get the first 40 rows form the highest numbers."
   ]
  },
  {
   "cell_type": "code",
   "execution_count": 29,
   "id": "4b3a0c48",
   "metadata": {},
   "outputs": [
    {
     "data": {
      "text/html": [
       "<div>\n",
       "<style scoped>\n",
       "    .dataframe tbody tr th:only-of-type {\n",
       "        vertical-align: middle;\n",
       "    }\n",
       "\n",
       "    .dataframe tbody tr th {\n",
       "        vertical-align: top;\n",
       "    }\n",
       "\n",
       "    .dataframe thead th {\n",
       "        text-align: right;\n",
       "    }\n",
       "</style>\n",
       "<table border=\"1\" class=\"dataframe\">\n",
       "  <thead>\n",
       "    <tr style=\"text-align: right;\">\n",
       "      <th></th>\n",
       "      <th>order_id</th>\n",
       "      <th>shop_id</th>\n",
       "      <th>user_id</th>\n",
       "      <th>order_amount</th>\n",
       "      <th>total_items</th>\n",
       "      <th>payment_method</th>\n",
       "      <th>created_at</th>\n",
       "    </tr>\n",
       "  </thead>\n",
       "  <tbody>\n",
       "    <tr>\n",
       "      <th>691</th>\n",
       "      <td>692</td>\n",
       "      <td>78</td>\n",
       "      <td>878</td>\n",
       "      <td>154350</td>\n",
       "      <td>6</td>\n",
       "      <td>debit</td>\n",
       "      <td>2017-03-27 22:51:43</td>\n",
       "    </tr>\n",
       "    <tr>\n",
       "      <th>2492</th>\n",
       "      <td>2493</td>\n",
       "      <td>78</td>\n",
       "      <td>834</td>\n",
       "      <td>102900</td>\n",
       "      <td>4</td>\n",
       "      <td>debit</td>\n",
       "      <td>2017-03-04 4:37:34</td>\n",
       "    </tr>\n",
       "    <tr>\n",
       "      <th>3724</th>\n",
       "      <td>3725</td>\n",
       "      <td>78</td>\n",
       "      <td>766</td>\n",
       "      <td>77175</td>\n",
       "      <td>3</td>\n",
       "      <td>credit_card</td>\n",
       "      <td>2017-03-16 14:13:26</td>\n",
       "    </tr>\n",
       "    <tr>\n",
       "      <th>1259</th>\n",
       "      <td>1260</td>\n",
       "      <td>78</td>\n",
       "      <td>775</td>\n",
       "      <td>77175</td>\n",
       "      <td>3</td>\n",
       "      <td>credit_card</td>\n",
       "      <td>2017-03-27 9:27:20</td>\n",
       "    </tr>\n",
       "    <tr>\n",
       "      <th>4420</th>\n",
       "      <td>4421</td>\n",
       "      <td>78</td>\n",
       "      <td>969</td>\n",
       "      <td>77175</td>\n",
       "      <td>3</td>\n",
       "      <td>debit</td>\n",
       "      <td>2017-03-09 15:21:35</td>\n",
       "    </tr>\n",
       "    <tr>\n",
       "      <th>2564</th>\n",
       "      <td>2565</td>\n",
       "      <td>78</td>\n",
       "      <td>915</td>\n",
       "      <td>77175</td>\n",
       "      <td>3</td>\n",
       "      <td>debit</td>\n",
       "      <td>2017-03-25 1:19:35</td>\n",
       "    </tr>\n",
       "    <tr>\n",
       "      <th>2906</th>\n",
       "      <td>2907</td>\n",
       "      <td>78</td>\n",
       "      <td>817</td>\n",
       "      <td>77175</td>\n",
       "      <td>3</td>\n",
       "      <td>debit</td>\n",
       "      <td>2017-03-16 3:45:46</td>\n",
       "    </tr>\n",
       "    <tr>\n",
       "      <th>4715</th>\n",
       "      <td>4716</td>\n",
       "      <td>78</td>\n",
       "      <td>818</td>\n",
       "      <td>77175</td>\n",
       "      <td>3</td>\n",
       "      <td>debit</td>\n",
       "      <td>2017-03-05 5:10:44</td>\n",
       "    </tr>\n",
       "    <tr>\n",
       "      <th>3403</th>\n",
       "      <td>3404</td>\n",
       "      <td>78</td>\n",
       "      <td>928</td>\n",
       "      <td>77175</td>\n",
       "      <td>3</td>\n",
       "      <td>debit</td>\n",
       "      <td>2017-03-16 9:45:05</td>\n",
       "    </tr>\n",
       "    <tr>\n",
       "      <th>4192</th>\n",
       "      <td>4193</td>\n",
       "      <td>78</td>\n",
       "      <td>787</td>\n",
       "      <td>77175</td>\n",
       "      <td>3</td>\n",
       "      <td>credit_card</td>\n",
       "      <td>2017-03-18 9:25:32</td>\n",
       "    </tr>\n",
       "    <tr>\n",
       "      <th>2690</th>\n",
       "      <td>2691</td>\n",
       "      <td>78</td>\n",
       "      <td>962</td>\n",
       "      <td>77175</td>\n",
       "      <td>3</td>\n",
       "      <td>debit</td>\n",
       "      <td>2017-03-22 7:33:25</td>\n",
       "    </tr>\n",
       "    <tr>\n",
       "      <th>3705</th>\n",
       "      <td>3706</td>\n",
       "      <td>78</td>\n",
       "      <td>828</td>\n",
       "      <td>51450</td>\n",
       "      <td>2</td>\n",
       "      <td>credit_card</td>\n",
       "      <td>2017-03-14 20:43:15</td>\n",
       "    </tr>\n",
       "    <tr>\n",
       "      <th>2495</th>\n",
       "      <td>2496</td>\n",
       "      <td>78</td>\n",
       "      <td>707</td>\n",
       "      <td>51450</td>\n",
       "      <td>2</td>\n",
       "      <td>cash</td>\n",
       "      <td>2017-03-26 4:38:52</td>\n",
       "    </tr>\n",
       "    <tr>\n",
       "      <th>2452</th>\n",
       "      <td>2453</td>\n",
       "      <td>78</td>\n",
       "      <td>709</td>\n",
       "      <td>51450</td>\n",
       "      <td>2</td>\n",
       "      <td>cash</td>\n",
       "      <td>2017-03-27 11:04:04</td>\n",
       "    </tr>\n",
       "    <tr>\n",
       "      <th>3167</th>\n",
       "      <td>3168</td>\n",
       "      <td>78</td>\n",
       "      <td>927</td>\n",
       "      <td>51450</td>\n",
       "      <td>2</td>\n",
       "      <td>cash</td>\n",
       "      <td>2017-03-12 12:23:08</td>\n",
       "    </tr>\n",
       "    <tr>\n",
       "      <th>2512</th>\n",
       "      <td>2513</td>\n",
       "      <td>78</td>\n",
       "      <td>935</td>\n",
       "      <td>51450</td>\n",
       "      <td>2</td>\n",
       "      <td>debit</td>\n",
       "      <td>2017-03-18 18:57:13</td>\n",
       "    </tr>\n",
       "    <tr>\n",
       "      <th>4079</th>\n",
       "      <td>4080</td>\n",
       "      <td>78</td>\n",
       "      <td>946</td>\n",
       "      <td>51450</td>\n",
       "      <td>2</td>\n",
       "      <td>cash</td>\n",
       "      <td>2017-03-20 21:14:00</td>\n",
       "    </tr>\n",
       "    <tr>\n",
       "      <th>3101</th>\n",
       "      <td>3102</td>\n",
       "      <td>78</td>\n",
       "      <td>855</td>\n",
       "      <td>51450</td>\n",
       "      <td>2</td>\n",
       "      <td>credit_card</td>\n",
       "      <td>2017-03-21 5:10:34</td>\n",
       "    </tr>\n",
       "    <tr>\n",
       "      <th>490</th>\n",
       "      <td>491</td>\n",
       "      <td>78</td>\n",
       "      <td>936</td>\n",
       "      <td>51450</td>\n",
       "      <td>2</td>\n",
       "      <td>debit</td>\n",
       "      <td>2017-03-26 17:08:19</td>\n",
       "    </tr>\n",
       "    <tr>\n",
       "      <th>493</th>\n",
       "      <td>494</td>\n",
       "      <td>78</td>\n",
       "      <td>983</td>\n",
       "      <td>51450</td>\n",
       "      <td>2</td>\n",
       "      <td>cash</td>\n",
       "      <td>2017-03-16 21:39:35</td>\n",
       "    </tr>\n",
       "    <tr>\n",
       "      <th>4311</th>\n",
       "      <td>4312</td>\n",
       "      <td>78</td>\n",
       "      <td>960</td>\n",
       "      <td>51450</td>\n",
       "      <td>2</td>\n",
       "      <td>debit</td>\n",
       "      <td>2017-03-01 3:02:10</td>\n",
       "    </tr>\n",
       "    <tr>\n",
       "      <th>1529</th>\n",
       "      <td>1530</td>\n",
       "      <td>78</td>\n",
       "      <td>810</td>\n",
       "      <td>51450</td>\n",
       "      <td>2</td>\n",
       "      <td>cash</td>\n",
       "      <td>2017-03-29 7:12:01</td>\n",
       "    </tr>\n",
       "    <tr>\n",
       "      <th>2818</th>\n",
       "      <td>2819</td>\n",
       "      <td>78</td>\n",
       "      <td>869</td>\n",
       "      <td>51450</td>\n",
       "      <td>2</td>\n",
       "      <td>debit</td>\n",
       "      <td>2017-03-17 6:25:51</td>\n",
       "    </tr>\n",
       "    <tr>\n",
       "      <th>511</th>\n",
       "      <td>512</td>\n",
       "      <td>78</td>\n",
       "      <td>967</td>\n",
       "      <td>51450</td>\n",
       "      <td>2</td>\n",
       "      <td>cash</td>\n",
       "      <td>2017-03-09 7:23:14</td>\n",
       "    </tr>\n",
       "    <tr>\n",
       "      <th>4412</th>\n",
       "      <td>4413</td>\n",
       "      <td>78</td>\n",
       "      <td>756</td>\n",
       "      <td>51450</td>\n",
       "      <td>2</td>\n",
       "      <td>debit</td>\n",
       "      <td>2017-03-02 4:13:39</td>\n",
       "    </tr>\n",
       "    <tr>\n",
       "      <th>2821</th>\n",
       "      <td>2822</td>\n",
       "      <td>78</td>\n",
       "      <td>814</td>\n",
       "      <td>51450</td>\n",
       "      <td>2</td>\n",
       "      <td>cash</td>\n",
       "      <td>2017-03-02 17:13:25</td>\n",
       "    </tr>\n",
       "    <tr>\n",
       "      <th>617</th>\n",
       "      <td>618</td>\n",
       "      <td>78</td>\n",
       "      <td>760</td>\n",
       "      <td>51450</td>\n",
       "      <td>2</td>\n",
       "      <td>cash</td>\n",
       "      <td>2017-03-18 11:18:42</td>\n",
       "    </tr>\n",
       "    <tr>\n",
       "      <th>3440</th>\n",
       "      <td>3441</td>\n",
       "      <td>78</td>\n",
       "      <td>982</td>\n",
       "      <td>25725</td>\n",
       "      <td>1</td>\n",
       "      <td>debit</td>\n",
       "      <td>2017-03-19 19:02:54</td>\n",
       "    </tr>\n",
       "    <tr>\n",
       "      <th>160</th>\n",
       "      <td>161</td>\n",
       "      <td>78</td>\n",
       "      <td>990</td>\n",
       "      <td>25725</td>\n",
       "      <td>1</td>\n",
       "      <td>credit_card</td>\n",
       "      <td>2017-03-12 5:56:57</td>\n",
       "    </tr>\n",
       "    <tr>\n",
       "      <th>1204</th>\n",
       "      <td>1205</td>\n",
       "      <td>78</td>\n",
       "      <td>970</td>\n",
       "      <td>25725</td>\n",
       "      <td>1</td>\n",
       "      <td>credit_card</td>\n",
       "      <td>2017-03-17 22:32:21</td>\n",
       "    </tr>\n",
       "    <tr>\n",
       "      <th>1193</th>\n",
       "      <td>1194</td>\n",
       "      <td>78</td>\n",
       "      <td>944</td>\n",
       "      <td>25725</td>\n",
       "      <td>1</td>\n",
       "      <td>debit</td>\n",
       "      <td>2017-03-16 16:38:26</td>\n",
       "    </tr>\n",
       "    <tr>\n",
       "      <th>2922</th>\n",
       "      <td>2923</td>\n",
       "      <td>78</td>\n",
       "      <td>740</td>\n",
       "      <td>25725</td>\n",
       "      <td>1</td>\n",
       "      <td>debit</td>\n",
       "      <td>2017-03-12 20:10:58</td>\n",
       "    </tr>\n",
       "    <tr>\n",
       "      <th>4918</th>\n",
       "      <td>4919</td>\n",
       "      <td>78</td>\n",
       "      <td>823</td>\n",
       "      <td>25725</td>\n",
       "      <td>1</td>\n",
       "      <td>cash</td>\n",
       "      <td>2017-03-15 13:26:46</td>\n",
       "    </tr>\n",
       "    <tr>\n",
       "      <th>4505</th>\n",
       "      <td>4506</td>\n",
       "      <td>78</td>\n",
       "      <td>866</td>\n",
       "      <td>25725</td>\n",
       "      <td>1</td>\n",
       "      <td>debit</td>\n",
       "      <td>2017-03-22 22:06:01</td>\n",
       "    </tr>\n",
       "    <tr>\n",
       "      <th>4584</th>\n",
       "      <td>4585</td>\n",
       "      <td>78</td>\n",
       "      <td>997</td>\n",
       "      <td>25725</td>\n",
       "      <td>1</td>\n",
       "      <td>cash</td>\n",
       "      <td>2017-03-25 21:48:44</td>\n",
       "    </tr>\n",
       "    <tr>\n",
       "      <th>2270</th>\n",
       "      <td>2271</td>\n",
       "      <td>78</td>\n",
       "      <td>855</td>\n",
       "      <td>25725</td>\n",
       "      <td>1</td>\n",
       "      <td>credit_card</td>\n",
       "      <td>2017-03-14 23:58:22</td>\n",
       "    </tr>\n",
       "    <tr>\n",
       "      <th>4040</th>\n",
       "      <td>4041</td>\n",
       "      <td>78</td>\n",
       "      <td>852</td>\n",
       "      <td>25725</td>\n",
       "      <td>1</td>\n",
       "      <td>cash</td>\n",
       "      <td>2017-03-02 14:31:12</td>\n",
       "    </tr>\n",
       "    <tr>\n",
       "      <th>3780</th>\n",
       "      <td>3781</td>\n",
       "      <td>78</td>\n",
       "      <td>889</td>\n",
       "      <td>25725</td>\n",
       "      <td>1</td>\n",
       "      <td>cash</td>\n",
       "      <td>2017-03-11 21:14:50</td>\n",
       "    </tr>\n",
       "    <tr>\n",
       "      <th>1384</th>\n",
       "      <td>1385</td>\n",
       "      <td>78</td>\n",
       "      <td>867</td>\n",
       "      <td>25725</td>\n",
       "      <td>1</td>\n",
       "      <td>cash</td>\n",
       "      <td>2017-03-17 16:38:06</td>\n",
       "    </tr>\n",
       "    <tr>\n",
       "      <th>2773</th>\n",
       "      <td>2774</td>\n",
       "      <td>78</td>\n",
       "      <td>890</td>\n",
       "      <td>25725</td>\n",
       "      <td>1</td>\n",
       "      <td>cash</td>\n",
       "      <td>2017-03-26 10:36:43</td>\n",
       "    </tr>\n",
       "  </tbody>\n",
       "</table>\n",
       "</div>"
      ],
      "text/plain": [
       "      order_id  shop_id  user_id  order_amount  total_items payment_method  \\\n",
       "691        692       78      878        154350            6          debit   \n",
       "2492      2493       78      834        102900            4          debit   \n",
       "3724      3725       78      766         77175            3    credit_card   \n",
       "1259      1260       78      775         77175            3    credit_card   \n",
       "4420      4421       78      969         77175            3          debit   \n",
       "2564      2565       78      915         77175            3          debit   \n",
       "2906      2907       78      817         77175            3          debit   \n",
       "4715      4716       78      818         77175            3          debit   \n",
       "3403      3404       78      928         77175            3          debit   \n",
       "4192      4193       78      787         77175            3    credit_card   \n",
       "2690      2691       78      962         77175            3          debit   \n",
       "3705      3706       78      828         51450            2    credit_card   \n",
       "2495      2496       78      707         51450            2           cash   \n",
       "2452      2453       78      709         51450            2           cash   \n",
       "3167      3168       78      927         51450            2           cash   \n",
       "2512      2513       78      935         51450            2          debit   \n",
       "4079      4080       78      946         51450            2           cash   \n",
       "3101      3102       78      855         51450            2    credit_card   \n",
       "490        491       78      936         51450            2          debit   \n",
       "493        494       78      983         51450            2           cash   \n",
       "4311      4312       78      960         51450            2          debit   \n",
       "1529      1530       78      810         51450            2           cash   \n",
       "2818      2819       78      869         51450            2          debit   \n",
       "511        512       78      967         51450            2           cash   \n",
       "4412      4413       78      756         51450            2          debit   \n",
       "2821      2822       78      814         51450            2           cash   \n",
       "617        618       78      760         51450            2           cash   \n",
       "3440      3441       78      982         25725            1          debit   \n",
       "160        161       78      990         25725            1    credit_card   \n",
       "1204      1205       78      970         25725            1    credit_card   \n",
       "1193      1194       78      944         25725            1          debit   \n",
       "2922      2923       78      740         25725            1          debit   \n",
       "4918      4919       78      823         25725            1           cash   \n",
       "4505      4506       78      866         25725            1          debit   \n",
       "4584      4585       78      997         25725            1           cash   \n",
       "2270      2271       78      855         25725            1    credit_card   \n",
       "4040      4041       78      852         25725            1           cash   \n",
       "3780      3781       78      889         25725            1           cash   \n",
       "1384      1385       78      867         25725            1           cash   \n",
       "2773      2774       78      890         25725            1           cash   \n",
       "\n",
       "               created_at  \n",
       "691   2017-03-27 22:51:43  \n",
       "2492   2017-03-04 4:37:34  \n",
       "3724  2017-03-16 14:13:26  \n",
       "1259   2017-03-27 9:27:20  \n",
       "4420  2017-03-09 15:21:35  \n",
       "2564   2017-03-25 1:19:35  \n",
       "2906   2017-03-16 3:45:46  \n",
       "4715   2017-03-05 5:10:44  \n",
       "3403   2017-03-16 9:45:05  \n",
       "4192   2017-03-18 9:25:32  \n",
       "2690   2017-03-22 7:33:25  \n",
       "3705  2017-03-14 20:43:15  \n",
       "2495   2017-03-26 4:38:52  \n",
       "2452  2017-03-27 11:04:04  \n",
       "3167  2017-03-12 12:23:08  \n",
       "2512  2017-03-18 18:57:13  \n",
       "4079  2017-03-20 21:14:00  \n",
       "3101   2017-03-21 5:10:34  \n",
       "490   2017-03-26 17:08:19  \n",
       "493   2017-03-16 21:39:35  \n",
       "4311   2017-03-01 3:02:10  \n",
       "1529   2017-03-29 7:12:01  \n",
       "2818   2017-03-17 6:25:51  \n",
       "511    2017-03-09 7:23:14  \n",
       "4412   2017-03-02 4:13:39  \n",
       "2821  2017-03-02 17:13:25  \n",
       "617   2017-03-18 11:18:42  \n",
       "3440  2017-03-19 19:02:54  \n",
       "160    2017-03-12 5:56:57  \n",
       "1204  2017-03-17 22:32:21  \n",
       "1193  2017-03-16 16:38:26  \n",
       "2922  2017-03-12 20:10:58  \n",
       "4918  2017-03-15 13:26:46  \n",
       "4505  2017-03-22 22:06:01  \n",
       "4584  2017-03-25 21:48:44  \n",
       "2270  2017-03-14 23:58:22  \n",
       "4040  2017-03-02 14:31:12  \n",
       "3780  2017-03-11 21:14:50  \n",
       "1384  2017-03-17 16:38:06  \n",
       "2773  2017-03-26 10:36:43  "
      ]
     },
     "execution_count": 29,
     "metadata": {},
     "output_type": "execute_result"
    }
   ],
   "source": [
    "dfWithNoHugeAmount.sort_values(by= 'order_amount', ascending=False).head(40)"
   ]
  },
  {
   "cell_type": "code",
   "execution_count": 30,
   "id": "afbb573b",
   "metadata": {},
   "outputs": [
    {
     "name": "stdout",
     "output_type": "stream",
     "text": [
      "count        46.000000\n",
      "mean      49213.043478\n",
      "std       26472.227449\n",
      "min       25725.000000\n",
      "25%       25725.000000\n",
      "50%       51450.000000\n",
      "75%       51450.000000\n",
      "max      154350.000000\n",
      "Name: order_amount, dtype: float64\n"
     ]
    }
   ],
   "source": [
    "print(df.loc[df['shop_id'].isin([78])].order_amount.describe())"
   ]
  },
  {
   "cell_type": "markdown",
   "id": "f17614df",
   "metadata": {},
   "source": [
    "### The shop_id 78 is selling expensive items that can affect our analysis for the AOV and this one is the another outlier that we can ignore, since these items are not the most frequently sold items."
   ]
  },
  {
   "cell_type": "code",
   "execution_count": 25,
   "id": "7ae9d856",
   "metadata": {},
   "outputs": [
    {
     "data": {
      "text/plain": [
       "count    4937.000000\n",
       "mean      302.580514\n",
       "std       160.804912\n",
       "min        90.000000\n",
       "25%       163.000000\n",
       "50%       284.000000\n",
       "75%       387.000000\n",
       "max      1760.000000\n",
       "Name: order_amount, dtype: float64"
      ]
     },
     "execution_count": 25,
     "metadata": {},
     "output_type": "execute_result"
    }
   ],
   "source": [
    "dfWithNoUnormal=  df[(df.order_amount < 704000) & (df.shop_id != 78)] # remove the outliers and store the\n",
    "dfWithNoUnormal.order_amount.describe()"
   ]
  },
  {
   "cell_type": "code",
   "execution_count": 24,
   "id": "b6324e7a",
   "metadata": {},
   "outputs": [
    {
     "data": {
      "text/plain": [
       "284.0"
      ]
     },
     "execution_count": 24,
     "metadata": {},
     "output_type": "execute_result"
    }
   ],
   "source": [
    "dfWithNoUnormal['order_amount'].mode()"
   ]
  },
  {
   "cell_type": "code",
   "execution_count": 26,
   "id": "e979bf0a",
   "metadata": {},
   "outputs": [
    {
     "data": {
      "text/plain": [
       "284.0"
      ]
     },
     "execution_count": 26,
     "metadata": {},
     "output_type": "execute_result"
    }
   ],
   "source": [
    "dfWithNoUnormal['order_amount'].median()"
   ]
  },
  {
   "cell_type": "code",
   "execution_count": 31,
   "id": "8092d5be",
   "metadata": {},
   "outputs": [
    {
     "data": {
      "text/plain": [
       "array([[<AxesSubplot:title={'center':'order_amount'}>]], dtype=object)"
      ]
     },
     "execution_count": 31,
     "metadata": {},
     "output_type": "execute_result"
    },
    {
     "data": {
      "image/png": "[encoded data removed]",
      "text/plain": [
       "<Figure size 432x288 with 1 Axes>"
      ]
     },
     "metadata": {
      "needs_background": "light"
     },
     "output_type": "display_data"
    },
    {
     "data": {
      "image/png": "[encoded data removed]",
      "text/plain": [
       "<Figure size 432x288 with 1 Axes>"
      ]
     },
     "metadata": {
      "needs_background": "light"
     },
     "output_type": "display_data"
    }
   ],
   "source": [
    "dfWithNoUnormal.boxplot(column='order_amount')\n",
    "dfWithNoUnormal.hist(column = 'order_amount')"
   ]
  },
  {
   "cell_type": "markdown",
   "id": "6bc9272f",
   "metadata": {},
   "source": [
    "### Now we have better histogram that shows the spread of the most frequently sold items."
   ]
  },
  {
   "cell_type": "markdown",
   "id": "b016ea81",
   "metadata": {},
   "source": [
    "### I would use median to calculate the AOV for this dataset, because it always give me the acurate number and it shows the middle value among all the items and its value is 284.00."
   ]
  },
  {
   "cell_type": "markdown",
   "id": "c91f1c87",
   "metadata": {},
   "source": [
    "# Question 2\n"
   ]
  },
  {
   "cell_type": "markdown",
   "id": "25bca343",
   "metadata": {},
   "source": [
    "### a.\tHow many orders were shipped by Speedy Express in total? 54"
   ]
  },
  {
   "cell_type": "code",
   "execution_count": 10,
   "id": "21bebb6a",
   "metadata": {},
   "outputs": [
    {
     "ename": "SyntaxError",
     "evalue": "invalid syntax (Temp/ipykernel_12360/2676052360.py, line 1)",
     "output_type": "error",
     "traceback": [
      "\u001b[1;36m  File \u001b[1;32m\"C:\\Users\\nahid\\AppData\\Local\\Temp/ipykernel_12360/2676052360.py\"\u001b[1;36m, line \u001b[1;32m1\u001b[0m\n\u001b[1;33m    SELECT  COUNT(o.OrderID)  FROM Orders as o\u001b[0m\n\u001b[1;37m            ^\u001b[0m\n\u001b[1;31mSyntaxError\u001b[0m\u001b[1;31m:\u001b[0m invalid syntax\n"
     ]
    }
   ],
   "source": [
    "       SELECT  COUNT(o.OrderID)  FROM Orders as o\n",
    "       WHERE(select s.ShipperID from Shippers as s\n",
    "\t   WHERE s.ShipperName =\"Speedy Express\")= o.ShipperID;\n"
   ]
  },
  {
   "cell_type": "markdown",
   "id": "2d2da68e",
   "metadata": {},
   "source": [
    "### b.\tWhat is the last name of the employee with the most orders? Peacock"
   ]
  },
  {
   "cell_type": "code",
   "execution_count": 11,
   "id": "d8a58e5e",
   "metadata": {},
   "outputs": [
    {
     "ename": "SyntaxError",
     "evalue": "invalid syntax (Temp/ipykernel_12360/1348796809.py, line 1)",
     "output_type": "error",
     "traceback": [
      "\u001b[1;36m  File \u001b[1;32m\"C:\\Users\\nahid\\AppData\\Local\\Temp/ipykernel_12360/1348796809.py\"\u001b[1;36m, line \u001b[1;32m1\u001b[0m\n\u001b[1;33m    SELECT e.LastName\u001b[0m\n\u001b[1;37m           ^\u001b[0m\n\u001b[1;31mSyntaxError\u001b[0m\u001b[1;31m:\u001b[0m invalid syntax\n"
     ]
    }
   ],
   "source": [
    "SELECT TOP 1 e.LastName\n",
    "FROM Orders as o\n",
    "INNER JOIN Employees as e ON o.EmployeeID = e.EmployeeID\n",
    "GROUP BY e.LastName\n",
    "ORDER BY count(o.OrderID) DESC;\n"
   ]
  },
  {
   "cell_type": "markdown",
   "id": "241ecbf6",
   "metadata": {},
   "source": [
    "### c.\tWhat product was ordered the most by customers in Germany? Boston Crab Meat"
   ]
  },
  {
   "cell_type": "code",
   "execution_count": null,
   "id": "d6499c90",
   "metadata": {},
   "outputs": [],
   "source": [
    "SELECT TOP 1 Products.ProductName, SUM(Quantity)\n",
    "FROM Products, Orders,OrderDetails, Customers\n",
    "Where Country = \"Germany\" and Products.ProductId = OrderDetails.ProductID and Orders.OrderID = OrderDetails.OrderID and Customers.CustomerID = Orders.CustomerID\n",
    "group by ProductName\n",
    "Order BY SUM(Quantity) DESC;"
   ]
  }
 ],
 "metadata": {
  "kernelspec": {
   "display_name": "Python 3 (ipykernel)",
   "language": "python",
   "name": "python3"
  },
  "language_info": {
   "codemirror_mode": {
    "name": "ipython",
    "version": 3
   },
   "file_extension": ".py",
   "mimetype": "text/x-python",
   "name": "python",
   "nbconvert_exporter": "python",
   "pygments_lexer": "ipython3",
   "version": "3.9.7"
  }
 },
 "nbformat": 4,
 "nbformat_minor": 5
}
